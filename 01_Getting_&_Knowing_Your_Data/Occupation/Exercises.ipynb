{
 "cells": [
  {
   "cell_type": "markdown",
   "metadata": {},
   "source": [
    "# Ex3 - Getting and Knowing your Data"
   ]
  },
  {
   "cell_type": "markdown",
   "metadata": {},
   "source": [
    "This time we are going to pull data directly from the internet.\n",
    "Special thanks to: https://github.com/justmarkham for sharing the dataset and materials.\n",
    "\n",
    "### Step 1. Import the necessary libraries"
   ]
  },
  {
   "cell_type": "code",
   "execution_count": 5,
   "metadata": {
    "ExecuteTime": {
     "end_time": "2024-04-06T10:21:43.871635Z",
     "start_time": "2024-04-06T10:21:43.868878Z"
    }
   },
   "outputs": [],
   "source": [
    "import pandas as pd \n",
    "import numpy as np"
   ]
  },
  {
   "cell_type": "markdown",
   "metadata": {},
   "source": [
    "### Step 2. Import the dataset from this [address](https://raw.githubusercontent.com/justmarkham/DAT8/master/data/u.user). "
   ]
  },
  {
   "cell_type": "code",
   "execution_count": 6,
   "metadata": {
    "ExecuteTime": {
     "end_time": "2024-04-06T10:21:53.678014Z",
     "start_time": "2024-04-06T10:21:53.675523Z"
    }
   },
   "outputs": [],
   "source": [
    "url = 'https://raw.githubusercontent.com/justmarkham/DAT8/master/data/u.user'"
   ]
  },
  {
   "cell_type": "markdown",
   "metadata": {},
   "source": [
    "### Step 3. Assign it to a variable called users and use the 'user_id' as index"
   ]
  },
  {
   "cell_type": "code",
   "execution_count": 19,
   "metadata": {
    "ExecuteTime": {
     "end_time": "2024-04-06T10:29:27.984344Z",
     "start_time": "2024-04-06T10:29:27.652271Z"
    }
   },
   "outputs": [],
   "source": [
    "users = pd.read_csv(url, sep='|', index_col='user_id')"
   ]
  },
  {
   "cell_type": "markdown",
   "metadata": {},
   "source": [
    "### Step 4. See the first 25 entries"
   ]
  },
  {
   "cell_type": "code",
   "execution_count": 20,
   "metadata": {
    "ExecuteTime": {
     "end_time": "2024-04-06T10:29:31.791032Z",
     "start_time": "2024-04-06T10:29:31.785674Z"
    },
    "scrolled": true
   },
   "outputs": [
    {
     "name": "stdout",
     "output_type": "stream",
     "text": [
      "         age gender     occupation zip_code\n",
      "user_id                                    \n",
      "1         24      M     technician    85711\n",
      "2         53      F          other    94043\n",
      "3         23      M         writer    32067\n",
      "4         24      M     technician    43537\n",
      "5         33      F          other    15213\n",
      "6         42      M      executive    98101\n",
      "7         57      M  administrator    91344\n",
      "8         36      M  administrator    05201\n",
      "9         29      M        student    01002\n",
      "10        53      M         lawyer    90703\n",
      "11        39      F          other    30329\n",
      "12        28      F          other    06405\n",
      "13        47      M       educator    29206\n",
      "14        45      M      scientist    55106\n",
      "15        49      F       educator    97301\n",
      "16        21      M  entertainment    10309\n",
      "17        30      M     programmer    06355\n",
      "18        35      F          other    37212\n",
      "19        40      M      librarian    02138\n",
      "20        42      F      homemaker    95660\n",
      "21        26      M         writer    30068\n",
      "22        25      M         writer    40206\n",
      "23        30      F         artist    48197\n",
      "24        21      F         artist    94533\n",
      "25        39      M       engineer    55107\n"
     ]
    }
   ],
   "source": [
    "print(users.head(25))"
   ]
  },
  {
   "cell_type": "markdown",
   "metadata": {},
   "source": [
    "### Step 5. See the last 10 entries"
   ]
  },
  {
   "cell_type": "code",
   "execution_count": 23,
   "metadata": {
    "ExecuteTime": {
     "end_time": "2024-04-06T10:30:40.904636Z",
     "start_time": "2024-04-06T10:30:40.898176Z"
    },
    "scrolled": true
   },
   "outputs": [
    {
     "name": "stdout",
     "output_type": "stream",
     "text": [
      "         age gender     occupation zip_code\n",
      "user_id                                    \n",
      "934       61      M       engineer    22902\n",
      "935       42      M         doctor    66221\n",
      "936       24      M          other    32789\n",
      "937       48      M       educator    98072\n",
      "938       38      F     technician    55038\n",
      "939       26      F        student    33319\n",
      "940       32      M  administrator    02215\n",
      "941       20      M        student    97229\n",
      "942       48      F      librarian    78209\n",
      "943       22      M        student    77841\n"
     ]
    }
   ],
   "source": [
    "print(users.tail(10))"
   ]
  },
  {
   "cell_type": "markdown",
   "metadata": {},
   "source": [
    "### Step 6. What is the number of observations in the dataset?"
   ]
  },
  {
   "cell_type": "code",
   "execution_count": 28,
   "metadata": {
    "ExecuteTime": {
     "end_time": "2024-04-06T10:31:47.602066Z",
     "start_time": "2024-04-06T10:31:47.597115Z"
    }
   },
   "outputs": [
    {
     "data": {
      "text/plain": [
       "943"
      ]
     },
     "execution_count": 28,
     "metadata": {},
     "output_type": "execute_result"
    }
   ],
   "source": [
    "users.shape[0]"
   ]
  },
  {
   "cell_type": "markdown",
   "metadata": {},
   "source": [
    "### Step 7. What is the number of columns in the dataset?"
   ]
  },
  {
   "cell_type": "code",
   "execution_count": 29,
   "metadata": {
    "ExecuteTime": {
     "end_time": "2024-04-06T10:32:11.104772Z",
     "start_time": "2024-04-06T10:32:11.099711Z"
    }
   },
   "outputs": [
    {
     "data": {
      "text/plain": [
       "4"
      ]
     },
     "execution_count": 29,
     "metadata": {},
     "output_type": "execute_result"
    }
   ],
   "source": [
    "users.shape[1]"
   ]
  },
  {
   "cell_type": "markdown",
   "metadata": {},
   "source": [
    "### Step 8. Print the name of all the columns."
   ]
  },
  {
   "cell_type": "code",
   "execution_count": 44,
   "metadata": {
    "ExecuteTime": {
     "end_time": "2024-04-06T10:36:54.678668Z",
     "start_time": "2024-04-06T10:36:54.675524Z"
    }
   },
   "outputs": [
    {
     "name": "stdout",
     "output_type": "stream",
     "text": [
      "['age', 'gender', 'occupation', 'zip_code']\n"
     ]
    }
   ],
   "source": [
    "print(users.columns.tolist())"
   ]
  },
  {
   "cell_type": "code",
   "execution_count": 36,
   "metadata": {
    "ExecuteTime": {
     "end_time": "2024-04-06T10:34:58.278370Z",
     "start_time": "2024-04-06T10:34:58.273816Z"
    }
   },
   "outputs": [
    {
     "name": "stdout",
     "output_type": "stream",
     "text": [
      "age, gender, occupation, zip_code, "
     ]
    }
   ],
   "source": [
    "for n in users.columns:\n",
    "    print (n , end=', ')"
   ]
  },
  {
   "cell_type": "markdown",
   "metadata": {},
   "source": [
    "### Step 9. How is the dataset indexed?"
   ]
  },
  {
   "cell_type": "code",
   "execution_count": 45,
   "metadata": {
    "ExecuteTime": {
     "end_time": "2024-04-06T10:37:34.398210Z",
     "start_time": "2024-04-06T10:37:34.393949Z"
    }
   },
   "outputs": [
    {
     "name": "stdout",
     "output_type": "stream",
     "text": [
      "<class 'pandas.core.indexes.base.Index'>\n"
     ]
    }
   ],
   "source": [
    "print(type(users.index))"
   ]
  },
  {
   "cell_type": "markdown",
   "metadata": {},
   "source": [
    "### Step 10. What is the data type of each column?"
   ]
  },
  {
   "cell_type": "code",
   "execution_count": 55,
   "metadata": {
    "ExecuteTime": {
     "end_time": "2024-04-06T10:40:10.150590Z",
     "start_time": "2024-04-06T10:40:10.145662Z"
    }
   },
   "outputs": [
    {
     "name": "stdout",
     "output_type": "stream",
     "text": [
      "age : int64\n",
      "gender : object\n",
      "occupation : object\n",
      "zip_code : object\n"
     ]
    }
   ],
   "source": [
    "for n in users.columns:\n",
    "    print(n,':', users.dtypes[n])"
   ]
  },
  {
   "cell_type": "markdown",
   "metadata": {},
   "source": [
    "### Step 11. Print only the occupation column"
   ]
  },
  {
   "cell_type": "code",
   "execution_count": 60,
   "metadata": {
    "ExecuteTime": {
     "end_time": "2024-04-06T10:43:25.808479Z",
     "start_time": "2024-04-06T10:43:25.803217Z"
    }
   },
   "outputs": [
    {
     "name": "stdout",
     "output_type": "stream",
     "text": [
      "user_id\n",
      "1         technician\n",
      "2              other\n",
      "3             writer\n",
      "4         technician\n",
      "5              other\n",
      "           ...      \n",
      "939          student\n",
      "940    administrator\n",
      "941          student\n",
      "942        librarian\n",
      "943          student\n",
      "Name: occupation, Length: 943, dtype: object\n"
     ]
    }
   ],
   "source": [
    "print(users.occupation)"
   ]
  },
  {
   "cell_type": "markdown",
   "metadata": {},
   "source": [
    "### Step 12. How many different occupations are in this dataset?"
   ]
  },
  {
   "cell_type": "code",
   "execution_count": 82,
   "metadata": {
    "ExecuteTime": {
     "end_time": "2024-04-06T10:49:59.464261Z",
     "start_time": "2024-04-06T10:49:59.458422Z"
    }
   },
   "outputs": [
    {
     "data": {
      "text/plain": [
       "21"
      ]
     },
     "execution_count": 82,
     "metadata": {},
     "output_type": "execute_result"
    }
   ],
   "source": [
    "users.occupation.nunique()"
   ]
  },
  {
   "cell_type": "code",
   "execution_count": 83,
   "metadata": {
    "ExecuteTime": {
     "end_time": "2024-04-06T10:50:06.243312Z",
     "start_time": "2024-04-06T10:50:06.238139Z"
    }
   },
   "outputs": [
    {
     "data": {
      "text/plain": [
       "21"
      ]
     },
     "execution_count": 83,
     "metadata": {},
     "output_type": "execute_result"
    }
   ],
   "source": [
    "len(users.occupation.value_counts())"
   ]
  },
  {
   "cell_type": "markdown",
   "metadata": {},
   "source": [
    "### Step 13. What is the most frequent occupation?"
   ]
  },
  {
   "cell_type": "code",
   "execution_count": 90,
   "metadata": {
    "ExecuteTime": {
     "end_time": "2024-04-06T10:51:32.035395Z",
     "start_time": "2024-04-06T10:51:32.030602Z"
    }
   },
   "outputs": [
    {
     "name": "stdout",
     "output_type": "stream",
     "text": [
      "student\n"
     ]
    }
   ],
   "source": [
    "print(users.occupation.mode()[0])"
   ]
  },
  {
   "cell_type": "code",
   "execution_count": 110,
   "metadata": {
    "ExecuteTime": {
     "end_time": "2024-04-06T10:56:53.141174Z",
     "start_time": "2024-04-06T10:56:53.136371Z"
    }
   },
   "outputs": [
    {
     "name": "stdout",
     "output_type": "stream",
     "text": [
      "student\n"
     ]
    }
   ],
   "source": [
    "print(users['occupation'].describe().top )"
   ]
  },
  {
   "cell_type": "markdown",
   "metadata": {},
   "source": [
    "### Step 14. Summarize the DataFrame."
   ]
  },
  {
   "cell_type": "code",
   "execution_count": 98,
   "metadata": {
    "ExecuteTime": {
     "end_time": "2024-04-06T10:53:16.058473Z",
     "start_time": "2024-04-06T10:53:16.050046Z"
    }
   },
   "outputs": [
    {
     "name": "stdout",
     "output_type": "stream",
     "text": [
      "              age\n",
      "count  943.000000\n",
      "mean    34.051962\n",
      "std     12.192740\n",
      "min      7.000000\n",
      "25%     25.000000\n",
      "50%     31.000000\n",
      "75%     43.000000\n",
      "max     73.000000\n"
     ]
    }
   ],
   "source": [
    "print(users.describe())"
   ]
  },
  {
   "cell_type": "markdown",
   "metadata": {},
   "source": [
    "### Step 15. Summarize all the columns"
   ]
  },
  {
   "cell_type": "code",
   "execution_count": 100,
   "metadata": {
    "ExecuteTime": {
     "end_time": "2024-04-06T10:54:22.403796Z",
     "start_time": "2024-04-06T10:54:22.391418Z"
    }
   },
   "outputs": [
    {
     "name": "stdout",
     "output_type": "stream",
     "text": [
      "               age gender occupation zip_code\n",
      "count   943.000000    943        943      943\n",
      "unique         NaN      2         21      795\n",
      "top            NaN      M    student    55414\n",
      "freq           NaN    670        196        9\n",
      "mean     34.051962    NaN        NaN      NaN\n",
      "std      12.192740    NaN        NaN      NaN\n",
      "min       7.000000    NaN        NaN      NaN\n",
      "25%      25.000000    NaN        NaN      NaN\n",
      "50%      31.000000    NaN        NaN      NaN\n",
      "75%      43.000000    NaN        NaN      NaN\n",
      "max      73.000000    NaN        NaN      NaN\n"
     ]
    }
   ],
   "source": [
    "print(users.describe(include='all'))"
   ]
  },
  {
   "cell_type": "markdown",
   "metadata": {},
   "source": [
    "### Step 16. Summarize only the occupation column"
   ]
  },
  {
   "cell_type": "code",
   "execution_count": 108,
   "metadata": {
    "ExecuteTime": {
     "end_time": "2024-04-06T10:56:18.471934Z",
     "start_time": "2024-04-06T10:56:18.465674Z"
    }
   },
   "outputs": [
    {
     "name": "stdout",
     "output_type": "stream",
     "text": [
      "count         943\n",
      "unique         21\n",
      "top       student\n",
      "freq          196\n",
      "Name: occupation, dtype: object\n"
     ]
    }
   ],
   "source": [
    "print(users['occupation'].describe())"
   ]
  },
  {
   "cell_type": "markdown",
   "metadata": {},
   "source": [
    "### Step 17. What is the mean age of users?"
   ]
  },
  {
   "cell_type": "code",
   "execution_count": 114,
   "metadata": {
    "ExecuteTime": {
     "end_time": "2024-04-06T10:58:27.352123Z",
     "start_time": "2024-04-06T10:58:27.348121Z"
    }
   },
   "outputs": [
    {
     "name": "stdout",
     "output_type": "stream",
     "text": [
      "34\n"
     ]
    }
   ],
   "source": [
    "print(int(users['age'].mean()))"
   ]
  },
  {
   "cell_type": "markdown",
   "metadata": {},
   "source": [
    "### Step 18. What is the age with least occurrence?"
   ]
  },
  {
   "cell_type": "code",
   "execution_count": 128,
   "metadata": {
    "ExecuteTime": {
     "end_time": "2024-04-06T11:10:08.333834Z",
     "start_time": "2024-04-06T11:10:08.327536Z"
    },
    "scrolled": true
   },
   "outputs": [
    {
     "name": "stdout",
     "output_type": "stream",
     "text": [
      "[7, 66, 11, 10, 73]\n"
     ]
    }
   ],
   "source": [
    "least = users['age'].value_counts().min()\n",
    "print(users['age'].value_counts()[users['age'].value_counts() == least].index.tolist())"
   ]
  }
 ],
 "metadata": {
  "anaconda-cloud": {},
  "kernelspec": {
   "display_name": "Python 3 (ipykernel)",
   "language": "python",
   "name": "python3"
  },
  "language_info": {
   "codemirror_mode": {
    "name": "ipython",
    "version": 3
   },
   "file_extension": ".py",
   "mimetype": "text/x-python",
   "name": "python",
   "nbconvert_exporter": "python",
   "pygments_lexer": "ipython3",
   "version": "3.11.5"
  }
 },
 "nbformat": 4,
 "nbformat_minor": 1
}
